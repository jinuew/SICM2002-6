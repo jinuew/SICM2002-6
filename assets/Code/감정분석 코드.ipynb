{
 "cells": [
  {
   "cell_type": "code",
   "execution_count": 1,
   "id": "9ae1e7da-45be-47f4-afaf-f3c1034ef798",
   "metadata": {},
   "outputs": [
    {
     "name": "stdout",
     "output_type": "stream",
     "text": [
      "WARNING:tensorflow:From C:\\anaconda\\Lib\\site-packages\\tf_keras\\src\\losses.py:2976: The name tf.losses.sparse_softmax_cross_entropy is deprecated. Please use tf.compat.v1.losses.sparse_softmax_cross_entropy instead.\n",
      "\n",
      "WARNING:tensorflow:From C:\\anaconda\\Lib\\site-packages\\tf_keras\\src\\backend.py:873: The name tf.get_default_graph is deprecated. Please use tf.compat.v1.get_default_graph instead.\n",
      "\n"
     ]
    },
    {
     "name": "stderr",
     "output_type": "stream",
     "text": [
      "All model checkpoint layers were used when initializing TFBertForSequenceClassification.\n",
      "\n",
      "All the layers of TFBertForSequenceClassification were initialized from the model checkpoint at nlptown/bert-base-multilingual-uncased-sentiment.\n",
      "If your task is similar to the task the model of the checkpoint was trained on, you can already use TFBertForSequenceClassification for predictions without further training.\n"
     ]
    },
    {
     "name": "stdout",
     "output_type": "stream",
     "text": [
      "제목: 배고프다\n",
      "감정: 3 stars, 점수: 0.2686508893966675\n",
      "\n",
      "제목: 한화 이글스 꼴지\n",
      "감정: 1 star, 점수: 0.32098326086997986\n",
      "\n",
      "제목: 한화 이글스 우승\n",
      "감정: 5 stars, 점수: 0.35064926743507385\n",
      "\n",
      "제목: 경제 불황으로 인한 기업 파산 증가\n",
      "감정: 1 star, 점수: 0.4094568192958832\n",
      "\n",
      "제목: 정치 스캔들로 인한 정부 신뢰도 하락\n",
      "감정: 2 stars, 점수: 0.35715752840042114\n",
      "\n"
     ]
    }
   ],
   "source": [
    "from transformers import pipeline\n",
    "\n",
    "# 감정 분석 파이프라인\n",
    "sentiment_pipeline = pipeline(\"sentiment-analysis\", model=\"nlptown/bert-base-multilingual-uncased-sentiment\")\n",
    "\n",
    "#\n",
    "titles = [\n",
    "    \"배고프다\",\n",
    "    \"한화 이글스 꼴지\",\n",
    "    \"한화 이글스 우승\",\n",
    "    \"경제 불황으로 인한 기업 파산 증가\",\n",
    "    \"정치 스캔들로 인한 정부 신뢰도 하락\"\n",
    "]\n",
    "\n",
    "# 1star 부정 ~ 5star 긍정\n",
    "for title in titles:\n",
    "    result = sentiment_pipeline(title)\n",
    "    print(f\"제목: {title}\\n감정: {result[0]['label']}, 점수: {result[0]['score']}\\n\")\n"
   ]
  },
  {
   "cell_type": "code",
   "execution_count": 2,
   "id": "4560f905-10c4-456e-9402-194efcad9749",
   "metadata": {},
   "outputs": [
    {
     "data": {
      "text/html": [
       "<div>\n",
       "<style scoped>\n",
       "    .dataframe tbody tr th:only-of-type {\n",
       "        vertical-align: middle;\n",
       "    }\n",
       "\n",
       "    .dataframe tbody tr th {\n",
       "        vertical-align: top;\n",
       "    }\n",
       "\n",
       "    .dataframe thead th {\n",
       "        text-align: right;\n",
       "    }\n",
       "</style>\n",
       "<table border=\"1\" class=\"dataframe\">\n",
       "  <thead>\n",
       "    <tr style=\"text-align: right;\">\n",
       "      <th></th>\n",
       "      <th>언론사</th>\n",
       "      <th>홈페이지</th>\n",
       "      <th>기사 제목</th>\n",
       "      <th>기사 링크</th>\n",
       "    </tr>\n",
       "  </thead>\n",
       "  <tbody>\n",
       "    <tr>\n",
       "      <th>0</th>\n",
       "      <td>경</td>\n",
       "      <td>http://www.kyeongin.com</td>\n",
       "      <td>김동연, 민주당에 “경기도 경제 3법 처리해달라” 요청</td>\n",
       "      <td>http://www.kyeongin.com/main/view.php?key=2024...</td>\n",
       "    </tr>\n",
       "    <tr>\n",
       "      <th>1</th>\n",
       "      <td>파이낸셜뉴스</td>\n",
       "      <td>http://www.fnnews.com/</td>\n",
       "      <td>김동연 \"경기북부 분도 아니다\"...도민 청원 반박</td>\n",
       "      <td>http://www.fnnews.com/news/202405312347585864</td>\n",
       "    </tr>\n",
       "    <tr>\n",
       "      <th>2</th>\n",
       "      <td>이</td>\n",
       "      <td>http://www.edaily.co.kr/</td>\n",
       "      <td>분도반대에 서울편입까지…경기북부특별자치도 '가시밭 길'</td>\n",
       "      <td>http://www.edaily.co.kr/news/newspath.asp?news...</td>\n",
       "    </tr>\n",
       "    <tr>\n",
       "      <th>3</th>\n",
       "      <td>NaN</td>\n",
       "      <td>http://news1.kr/</td>\n",
       "      <td>“특별자치도 추진 강행”…김동연 지사, 경기도청원 공식 답변</td>\n",
       "      <td>https://www.news1.kr/articles/5434859</td>\n",
       "    </tr>\n",
       "    <tr>\n",
       "      <th>4</th>\n",
       "      <td>KBS</td>\n",
       "      <td>http://news.kbs.co.kr/</td>\n",
       "      <td>“평누도 너무 싫어요” 분도 반대 여론에…김동연의 대답은</td>\n",
       "      <td>https://news.kbs.co.kr/news/pc/view/view.do?nc...</td>\n",
       "    </tr>\n",
       "    <tr>\n",
       "      <th>...</th>\n",
       "      <td>...</td>\n",
       "      <td>...</td>\n",
       "      <td>...</td>\n",
       "      <td>...</td>\n",
       "    </tr>\n",
       "    <tr>\n",
       "      <th>325</th>\n",
       "      <td>중</td>\n",
       "      <td>http://www.joongboo.com</td>\n",
       "      <td>경기북부지역 예비후보들, '경기도 분도(分道) 총선 공약화</td>\n",
       "      <td>http://www.joongboo.com/?mod=news&amp;act=articleV...</td>\n",
       "    </tr>\n",
       "    <tr>\n",
       "      <th>326</th>\n",
       "      <td>경</td>\n",
       "      <td>http://www.ifm.kr</td>\n",
       "      <td>[월간시장] 박승원 광명시장 \"분도를 넘어 남북 통일 대비한 평화특별자치도 ...</td>\n",
       "      <td>http://www.ifm.kr/news/376070</td>\n",
       "    </tr>\n",
       "    <tr>\n",
       "      <th>327</th>\n",
       "      <td>국</td>\n",
       "      <td>http://www.gukjenews.com/</td>\n",
       "      <td>의정부시의회 만장일치 제정한 위법 분도(分道)조례…이재명 경고받고 한 달 ...</td>\n",
       "      <td>http://www.gukjenews.com/news/articleView.html...</td>\n",
       "    </tr>\n",
       "    <tr>\n",
       "      <th>328</th>\n",
       "      <td>경</td>\n",
       "      <td>http://www.kyeongin.com</td>\n",
       "      <td>[한국지방신문협회 공동기획 대선주자 집중 토론회]손학규 \"경기도 균형발전 ...</td>\n",
       "      <td>http://www.kyeongin.com/main/view.php?key=2017...</td>\n",
       "    </tr>\n",
       "    <tr>\n",
       "      <th>329</th>\n",
       "      <td>에너</td>\n",
       "      <td>http://www.ekn.kr</td>\n",
       "      <td>최종환 파주시장, ‘경기분도’ 필요성 제기... \"이재명, 장기적으로 분도 해...</td>\n",
       "      <td>https://www.ekn.kr/web/view.php?key=2020112901...</td>\n",
       "    </tr>\n",
       "  </tbody>\n",
       "</table>\n",
       "<p>330 rows × 4 columns</p>\n",
       "</div>"
      ],
      "text/plain": [
       "        언론사                       홈페이지  \\\n",
       "0         경    http://www.kyeongin.com   \n",
       "1    파이낸셜뉴스     http://www.fnnews.com/   \n",
       "2         이   http://www.edaily.co.kr/   \n",
       "3       NaN           http://news1.kr/   \n",
       "4       KBS     http://news.kbs.co.kr/   \n",
       "..      ...                        ...   \n",
       "325       중    http://www.joongboo.com   \n",
       "326       경          http://www.ifm.kr   \n",
       "327       국  http://www.gukjenews.com/   \n",
       "328       경    http://www.kyeongin.com   \n",
       "329      에너          http://www.ekn.kr   \n",
       "\n",
       "                                              기사 제목  \\\n",
       "0                    김동연, 민주당에 “경기도 경제 3법 처리해달라” 요청   \n",
       "1                      김동연 \"경기북부 분도 아니다\"...도민 청원 반박   \n",
       "2                    분도반대에 서울편입까지…경기북부특별자치도 '가시밭 길'   \n",
       "3                 “특별자치도 추진 강행”…김동연 지사, 경기도청원 공식 답변   \n",
       "4                   “평누도 너무 싫어요” 분도 반대 여론에…김동연의 대답은   \n",
       "..                                              ...   \n",
       "325                경기북부지역 예비후보들, '경기도 분도(分道) 총선 공약화   \n",
       "326   [월간시장] 박승원 광명시장 \"분도를 넘어 남북 통일 대비한 평화특별자치도 ...   \n",
       "327    의정부시의회 만장일치 제정한 위법 분도(分道)조례…이재명 경고받고 한 달 ...   \n",
       "328    [한국지방신문협회 공동기획 대선주자 집중 토론회]손학규 \"경기도 균형발전 ...   \n",
       "329  최종환 파주시장, ‘경기분도’ 필요성 제기... \"이재명, 장기적으로 분도 해...   \n",
       "\n",
       "                                                 기사 링크  \n",
       "0    http://www.kyeongin.com/main/view.php?key=2024...  \n",
       "1        http://www.fnnews.com/news/202405312347585864  \n",
       "2    http://www.edaily.co.kr/news/newspath.asp?news...  \n",
       "3                https://www.news1.kr/articles/5434859  \n",
       "4    https://news.kbs.co.kr/news/pc/view/view.do?nc...  \n",
       "..                                                 ...  \n",
       "325  http://www.joongboo.com/?mod=news&act=articleV...  \n",
       "326                      http://www.ifm.kr/news/376070  \n",
       "327  http://www.gukjenews.com/news/articleView.html...  \n",
       "328  http://www.kyeongin.com/main/view.php?key=2017...  \n",
       "329  https://www.ekn.kr/web/view.php?key=2020112901...  \n",
       "\n",
       "[330 rows x 4 columns]"
      ]
     },
     "execution_count": 2,
     "metadata": {},
     "output_type": "execute_result"
    }
   ],
   "source": [
    "import pandas as pd\n",
    "a = pd.read_csv(\"./naver_news_경기도 분도_results.csv\")\n",
    "a"
   ]
  },
  {
   "cell_type": "code",
   "execution_count": 3,
   "id": "98814848-fc3e-40c0-b785-68c8d023b55d",
   "metadata": {},
   "outputs": [
    {
     "name": "stderr",
     "output_type": "stream",
     "text": [
      "Some layers from the model checkpoint at nlptown/bert-base-multilingual-uncased-sentiment were not used when initializing TFBertForSequenceClassification: ['dropout_37']\n",
      "- This IS expected if you are initializing TFBertForSequenceClassification from the checkpoint of a model trained on another task or with another architecture (e.g. initializing a BertForSequenceClassification model from a BertForPreTraining model).\n",
      "- This IS NOT expected if you are initializing TFBertForSequenceClassification from the checkpoint of a model that you expect to be exactly identical (initializing a BertForSequenceClassification model from a BertForSequenceClassification model).\n",
      "All the layers of TFBertForSequenceClassification were initialized from the model checkpoint at nlptown/bert-base-multilingual-uncased-sentiment.\n",
      "If your task is similar to the task the model of the checkpoint was trained on, you can already use TFBertForSequenceClassification for predictions without further training.\n"
     ]
    }
   ],
   "source": [
    "sentiment_pipeline = pipeline(\"sentiment-analysis\", model=\"nlptown/bert-base-multilingual-uncased-sentiment\")\n",
    "\n",
    "def map_star_to_sentiment(star_label):\n",
    "    if star_label in ['1 star', '2 stars']:\n",
    "        return '부정'\n",
    "    else:\n",
    "        return '중립'\n",
    "\n"
   ]
  },
  {
   "cell_type": "code",
   "execution_count": 4,
   "id": "648cd923-5aeb-4dc8-b967-e9619ea2a149",
   "metadata": {},
   "outputs": [],
   "source": [
    "def analyze_sentiment(title):\n",
    "    result = sentiment_pipeline(title)[0]\n",
    "    sentiment = map_star_to_sentiment(result['label'])\n",
    "    return sentiment\n"
   ]
  },
  {
   "cell_type": "code",
   "execution_count": 5,
   "id": "0e021ff9-94ff-44cc-91ce-490d9e16bf10",
   "metadata": {},
   "outputs": [],
   "source": [
    "a['감정 분석 결과'] = a['기사 제목'].apply(analyze_sentiment)\n"
   ]
  },
  {
   "cell_type": "code",
   "execution_count": 8,
   "id": "c9ba31e4-8d56-4f22-af43-41a10c939982",
   "metadata": {},
   "outputs": [
    {
     "data": {
      "text/html": [
       "<div>\n",
       "<style scoped>\n",
       "    .dataframe tbody tr th:only-of-type {\n",
       "        vertical-align: middle;\n",
       "    }\n",
       "\n",
       "    .dataframe tbody tr th {\n",
       "        vertical-align: top;\n",
       "    }\n",
       "\n",
       "    .dataframe thead th {\n",
       "        text-align: right;\n",
       "    }\n",
       "</style>\n",
       "<table border=\"1\" class=\"dataframe\">\n",
       "  <thead>\n",
       "    <tr style=\"text-align: right;\">\n",
       "      <th></th>\n",
       "      <th>언론사</th>\n",
       "      <th>홈페이지</th>\n",
       "      <th>기사 제목</th>\n",
       "      <th>기사 링크</th>\n",
       "      <th>감정 분석 결과</th>\n",
       "    </tr>\n",
       "  </thead>\n",
       "  <tbody>\n",
       "    <tr>\n",
       "      <th>0</th>\n",
       "      <td>경</td>\n",
       "      <td>http://www.kyeongin.com</td>\n",
       "      <td>김동연, 민주당에 “경기도 경제 3법 처리해달라” 요청</td>\n",
       "      <td>http://www.kyeongin.com/main/view.php?key=2024...</td>\n",
       "      <td>중립</td>\n",
       "    </tr>\n",
       "    <tr>\n",
       "      <th>1</th>\n",
       "      <td>파이낸셜뉴스</td>\n",
       "      <td>http://www.fnnews.com/</td>\n",
       "      <td>김동연 \"경기북부 분도 아니다\"...도민 청원 반박</td>\n",
       "      <td>http://www.fnnews.com/news/202405312347585864</td>\n",
       "      <td>부정</td>\n",
       "    </tr>\n",
       "    <tr>\n",
       "      <th>2</th>\n",
       "      <td>이</td>\n",
       "      <td>http://www.edaily.co.kr/</td>\n",
       "      <td>분도반대에 서울편입까지…경기북부특별자치도 '가시밭 길'</td>\n",
       "      <td>http://www.edaily.co.kr/news/newspath.asp?news...</td>\n",
       "      <td>부정</td>\n",
       "    </tr>\n",
       "    <tr>\n",
       "      <th>3</th>\n",
       "      <td>NaN</td>\n",
       "      <td>http://news1.kr/</td>\n",
       "      <td>“특별자치도 추진 강행”…김동연 지사, 경기도청원 공식 답변</td>\n",
       "      <td>https://www.news1.kr/articles/5434859</td>\n",
       "      <td>중립</td>\n",
       "    </tr>\n",
       "    <tr>\n",
       "      <th>4</th>\n",
       "      <td>KBS</td>\n",
       "      <td>http://news.kbs.co.kr/</td>\n",
       "      <td>“평누도 너무 싫어요” 분도 반대 여론에…김동연의 대답은</td>\n",
       "      <td>https://news.kbs.co.kr/news/pc/view/view.do?nc...</td>\n",
       "      <td>부정</td>\n",
       "    </tr>\n",
       "  </tbody>\n",
       "</table>\n",
       "</div>"
      ],
      "text/plain": [
       "      언론사                      홈페이지                              기사 제목  \\\n",
       "0       경   http://www.kyeongin.com     김동연, 민주당에 “경기도 경제 3법 처리해달라” 요청   \n",
       "1  파이낸셜뉴스    http://www.fnnews.com/       김동연 \"경기북부 분도 아니다\"...도민 청원 반박   \n",
       "2       이  http://www.edaily.co.kr/     분도반대에 서울편입까지…경기북부특별자치도 '가시밭 길'   \n",
       "3     NaN          http://news1.kr/  “특별자치도 추진 강행”…김동연 지사, 경기도청원 공식 답변   \n",
       "4     KBS    http://news.kbs.co.kr/    “평누도 너무 싫어요” 분도 반대 여론에…김동연의 대답은   \n",
       "\n",
       "                                               기사 링크 감정 분석 결과  \n",
       "0  http://www.kyeongin.com/main/view.php?key=2024...       중립  \n",
       "1      http://www.fnnews.com/news/202405312347585864       부정  \n",
       "2  http://www.edaily.co.kr/news/newspath.asp?news...       부정  \n",
       "3              https://www.news1.kr/articles/5434859       중립  \n",
       "4  https://news.kbs.co.kr/news/pc/view/view.do?nc...       부정  "
      ]
     },
     "execution_count": 8,
     "metadata": {},
     "output_type": "execute_result"
    }
   ],
   "source": [
    "a.head()\n"
   ]
  },
  {
   "cell_type": "code",
   "execution_count": 9,
   "id": "9c4c9f81-e2b8-4ced-bd69-0ec0d2208969",
   "metadata": {},
   "outputs": [],
   "source": [
    "a.to_csv('크롤링 뉴스 감정 분석 결과.csv', index=False)"
   ]
  },
  {
   "cell_type": "code",
   "execution_count": 10,
   "id": "d2216eb8-8c01-49f9-b0b7-0943ff81fbda",
   "metadata": {},
   "outputs": [
    {
     "data": {
      "text/plain": [
       "0      중립\n",
       "1      부정\n",
       "2      부정\n",
       "3      중립\n",
       "4      부정\n",
       "       ..\n",
       "325    중립\n",
       "326    부정\n",
       "327    부정\n",
       "328    중립\n",
       "329    중립\n",
       "Name: 감정 분석 결과, Length: 330, dtype: object"
      ]
     },
     "execution_count": 10,
     "metadata": {},
     "output_type": "execute_result"
    }
   ],
   "source": [
    "a['감정 분석 결과']"
   ]
  },
  {
   "cell_type": "code",
   "execution_count": 11,
   "id": "81e40453-d114-4b43-82ac-47d67e5145dd",
   "metadata": {},
   "outputs": [
    {
     "name": "stdout",
     "output_type": "stream",
     "text": [
      "131\n"
     ]
    }
   ],
   "source": [
    "negative_count = (a['감정 분석 결과'] ==\"부정\").sum()\n",
    "print(negative_count)"
   ]
  },
  {
   "cell_type": "code",
   "execution_count": null,
   "id": "a58fcf6e-1eba-4a92-863a-fb76f5fc53d0",
   "metadata": {},
   "outputs": [],
   "source": []
  },
  {
   "cell_type": "code",
   "execution_count": null,
   "id": "0b1aab58-cc42-41e5-bb97-a6411c74e3fb",
   "metadata": {},
   "outputs": [],
   "source": []
  },
  {
   "cell_type": "code",
   "execution_count": null,
   "id": "b3e87dc6-7dd5-4a4b-9ba0-4f724cd29e40",
   "metadata": {},
   "outputs": [],
   "source": []
  },
  {
   "cell_type": "code",
   "execution_count": null,
   "id": "24ef80ae-794b-4d6a-b686-00f5f05a8c4d",
   "metadata": {},
   "outputs": [],
   "source": []
  },
  {
   "cell_type": "code",
   "execution_count": null,
   "id": "4dc9a39a-6ad5-4cd0-bd4b-17d14a61d555",
   "metadata": {},
   "outputs": [],
   "source": []
  }
 ],
 "metadata": {
  "kernelspec": {
   "display_name": "Python 3 (ipykernel)",
   "language": "python",
   "name": "python3"
  },
  "language_info": {
   "codemirror_mode": {
    "name": "ipython",
    "version": 3
   },
   "file_extension": ".py",
   "mimetype": "text/x-python",
   "name": "python",
   "nbconvert_exporter": "python",
   "pygments_lexer": "ipython3",
   "version": "3.11.7"
  }
 },
 "nbformat": 4,
 "nbformat_minor": 5
}
