{
 "cells": [
  {
   "cell_type": "code",
   "execution_count": 1,
   "id": "74365e85-c96c-4ba0-91b3-cab4e1ef1d88",
   "metadata": {},
   "outputs": [],
   "source": [
    "!pip install geopandas\n",
    "\n",
    "import geopandas as gpd\n",
    "\n",
    "# 입력 shapefile 경로\n",
    "input_shp = r'C:\\Users\\82102\\Desktop\\진영\\4-1학기\\공모전\\민규윤철 공시지가\\경기인천병합본\\2017\\경기인천공간조인_2017.shp'\n",
    "\n",
    "# 출력 shapefile 경로\n",
    "output_shp_include = r'C:\\Users\\82102\\Desktop\\진영\\5-1\\공시지가\\경기북부2017.shp'\n",
    "output_shp_exclude = r'C:\\Users\\82102\\Desktop\\진영\\5-1\\공시지가\\경기남부2017.shp'\n",
    "\n",
    "# shapefile 불러오기\n",
    "gdf = gpd.read_file(input_shp)\n",
    "\n",
    "# 포함할 주소 리스트\n",
    "addresses_to_include = ['고양', '파주', '연천', '동두천', '양주', '의정부', '구리', '남양주', '가평', '포천']\n",
    "\n",
    "# 포함 조건에 맞는 데이터 필터링\n",
    "include_condition = gdf['address'].str.contains('|'.join(addresses_to_include))\n",
    "\n",
    "# \"경기도\"를 포함하지만 제외할 주소 리스트에 포함되지 않은 데이터 필터링\n",
    "exclude_condition = gdf['address'].str.contains('경기도') & ~include_condition\n",
    "\n",
    "# 데이터 나누기\n",
    "gdf_include = gdf[include_condition]\n",
    "gdf_exclude = gdf[exclude_condition]\n",
    "\n",
    "# 나눈 데이터를 새로운 shapefile로 저장\n",
    "gdf_include.to_file(output_shp_include)\n",
    "gdf_exclude.to_file(output_shp_exclude)"
   ]
  }
 ],
 "metadata": {
  "kernelspec": {
   "display_name": "Python 3 (ipykernel)",
   "language": "python",
   "name": "python3"
  },
  "language_info": {
   "codemirror_mode": {
    "name": "ipython",
    "version": 3
   },
   "file_extension": ".py",
   "mimetype": "text/x-python",
   "name": "python",
   "nbconvert_exporter": "python",
   "pygments_lexer": "ipython3",
   "version": "3.11.7"
  }
 },
 "nbformat": 4,
 "nbformat_minor": 5
}
