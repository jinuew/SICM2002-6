{
 "cells": [
  {
   "cell_type": "code",
   "execution_count": 1,
   "id": "74365e85-c96c-4ba0-91b3-cab4e1ef1d88",
   "metadata": {},
   "outputs": [],
   "source": [
    "import json\n",
    "\n",
    "file_path = './경기도GRDP.geojson'\n",
    "with open(file_path, 'r', encoding='utf-8') as file:\n",
    "    geojson_data = json.load(file)"
   ]
  },
  {
   "cell_type": "code",
   "execution_count": 5,
   "id": "04622d02-6b87-4dd4-8047-83625e39f1a0",
   "metadata": {},
   "outputs": [
    {
     "data": {
      "text/plain": [
       "'./Gyeonggi_GRDP_Map.html'"
      ]
     },
     "execution_count": 5,
     "metadata": {},
     "output_type": "execute_result"
    }
   ],
   "source": [
    "import folium\n",
    "from branca.colormap import linear\n",
    "\n",
    "# OSM 호출\n",
    "map_osm = folium.Map(location=[37.5502, 126.982], zoom_start=10, tiles='OpenStreetMap')\n",
    "\n",
    "# 컬럼에 따라 단계 구분 작성하기\n",
    "colormap = linear.YlOrRd_09.scale(1, 5)\n",
    "\n",
    "# Level 컬럼 작성\n",
    "def color_scale(level):\n",
    "    return colormap(level)\n",
    "\n",
    "# Adding GeoJSON overlay\n",
    "folium.GeoJson(\n",
    "    geojson_data,\n",
    "    name='GRDP Level',\n",
    "    style_function=lambda feature: {\n",
    "        'fillColor': color_scale(feature['properties']['Level']),\n",
    "        'color': 'black',\n",
    "        'weight': 1,\n",
    "        'fillOpacity': 0.6,\n",
    "    },\n",
    "    tooltip=folium.GeoJsonTooltip(\n",
    "        fields=['GRDP'],\n",
    "        aliases=['GRDP:'],\n",
    "        localize=True\n",
    "    )\n",
    ").add_to(map_osm)\n",
    "\n",
    "# Add color map to the map\n",
    "colormap.caption = 'Level of GRDP'\n",
    "colormap.add_to(map_osm)\n",
    "\n",
    "# Saving to HTML file\n",
    "output_path = './Gyeonggi_GRDP_Map.html'\n",
    "map_osm.save(output_path)\n",
    "\n",
    "output_path"
   ]
  },
  {
   "cell_type": "code",
   "execution_count": 3,
   "id": "7a5b7410-d267-49ea-8450-8426c31d602e",
   "metadata": {},
   "outputs": [
    {
     "name": "stdout",
     "output_type": "stream",
     "text": [
      "Collecting folium\n",
      "  Downloading folium-0.16.0-py2.py3-none-any.whl.metadata (3.6 kB)\n",
      "Collecting branca>=0.6.0 (from folium)\n",
      "  Downloading branca-0.7.2-py3-none-any.whl.metadata (1.5 kB)\n",
      "Requirement already satisfied: jinja2>=2.9 in c:\\anaconda\\lib\\site-packages (from folium) (3.1.3)\n",
      "Requirement already satisfied: numpy in c:\\anaconda\\lib\\site-packages (from folium) (1.26.4)\n",
      "Requirement already satisfied: requests in c:\\anaconda\\lib\\site-packages (from folium) (2.31.0)\n",
      "Requirement already satisfied: xyzservices in c:\\anaconda\\lib\\site-packages (from folium) (2022.9.0)\n",
      "Requirement already satisfied: MarkupSafe>=2.0 in c:\\anaconda\\lib\\site-packages (from jinja2>=2.9->folium) (2.1.3)\n",
      "Requirement already satisfied: charset-normalizer<4,>=2 in c:\\anaconda\\lib\\site-packages (from requests->folium) (2.0.4)\n",
      "Requirement already satisfied: idna<4,>=2.5 in c:\\anaconda\\lib\\site-packages (from requests->folium) (3.4)\n",
      "Requirement already satisfied: urllib3<3,>=1.21.1 in c:\\anaconda\\lib\\site-packages (from requests->folium) (2.0.7)\n",
      "Requirement already satisfied: certifi>=2017.4.17 in c:\\anaconda\\lib\\site-packages (from requests->folium) (2024.2.2)\n",
      "Downloading folium-0.16.0-py2.py3-none-any.whl (100 kB)\n",
      "   ---------------------------------------- 0.0/100.0 kB ? eta -:--:--\n",
      "   -------------------------------- ------- 81.9/100.0 kB 2.3 MB/s eta 0:00:01\n",
      "   ---------------------------------------- 100.0/100.0 kB 2.0 MB/s eta 0:00:00\n",
      "Downloading branca-0.7.2-py3-none-any.whl (25 kB)\n",
      "Installing collected packages: branca, folium\n",
      "Successfully installed branca-0.7.2 folium-0.16.0\n"
     ]
    }
   ],
   "source": [
    "!pip install folium"
   ]
  }
 ],
 "metadata": {
  "kernelspec": {
   "display_name": "Python 3 (ipykernel)",
   "language": "python",
   "name": "python3"
  },
  "language_info": {
   "codemirror_mode": {
    "name": "ipython",
    "version": 3
   },
   "file_extension": ".py",
   "mimetype": "text/x-python",
   "name": "python",
   "nbconvert_exporter": "python",
   "pygments_lexer": "ipython3",
   "version": "3.11.7"
  }
 },
 "nbformat": 4,
 "nbformat_minor": 5
}
