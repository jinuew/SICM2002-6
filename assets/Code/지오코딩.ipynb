{
  "nbformat": 4,
  "nbformat_minor": 0,
  "metadata": {
    "colab": {
      "provenance": []
    },
    "kernelspec": {
      "name": "python3",
      "display_name": "Python 3"
    },
    "language_info": {
      "name": "python"
    }
  },
  "cells": [
    {
      "cell_type": "code",
      "source": [
        "import requests\n",
        "import json\n",
        "import pandas as pd"
      ],
      "metadata": {
        "id": "z86MK8-bdbWA"
      },
      "execution_count": null,
      "outputs": []
    },
    {
      "cell_type": "code",
      "source": [
        "#\n",
        "def Kakao_Geocoding(address, api_key):\n",
        "    url = 'https://dapi.kakao.com/v2/local/search/address.json'\n",
        "    headers = {\"Authorization\": f\"KakaoAK {api_key}\"}\n",
        "    params = {'query': address}\n",
        "    response = requests.get(url, headers=headers, params=params)\n",
        "    return response.json()"
      ],
      "metadata": {
        "id": "-u1QkTJ7tQiM"
      },
      "execution_count": null,
      "outputs": []
    },
    {
      "cell_type": "code",
      "source": [
        "#\n",
        "api_key = '44b77d96f967c0b0d131038057eddb38'\n",
        "\n",
        "#\n",
        "csv_file_path = '/content/data.csv'\n",
        "addresses_df = pd.read_csv(csv_file_path)\n",
        "\n",
        "#\n",
        "latitudes = []\n",
        "longitudes = []"
      ],
      "metadata": {
        "id": "XFwkiEWZtRjV"
      },
      "execution_count": null,
      "outputs": []
    },
    {
      "cell_type": "code",
      "source": [
        "#\n",
        "for address in addresses_df['Address']:\n",
        "    try:\n",
        "        result = Kakao_Geocoding(address.strip(), api_key)\n",
        "        address_info = result['documents'][0]['address']\n",
        "        latitudes.append(address_info['y'])\n",
        "        longitudes.append(address_info['x'])\n",
        "    except (IndexError, KeyError):\n",
        "        # 에러 발생시 None 값 대입\n",
        "        latitudes.append(None)\n",
        "        longitudes.append(None)"
      ],
      "metadata": {
        "id": "tj-ol9HEtR6D"
      },
      "execution_count": null,
      "outputs": []
    },
    {
      "cell_type": "code",
      "source": [
        "#\n",
        "addresses_df['latitude'] = latitudes\n",
        "addresses_df['longitude'] = longitudes\n",
        "\n",
        "#\n",
        "output_csv_path = 'file_name.csv'\n",
        "addresses_df.to_csv(output_csv_path, index=False, encoding='utf-8-sig')"
      ],
      "metadata": {
        "id": "KkvvTGaHtSQz"
      },
      "execution_count": null,
      "outputs": []
    },
    {
      "cell_type": "code",
      "execution_count": null,
      "metadata": {
        "id": "aVzsphr4bUuR"
      },
      "outputs": [],
      "source": []
    }
  ]
}